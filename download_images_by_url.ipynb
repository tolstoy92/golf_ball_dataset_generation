{
 "cells": [
  {
   "cell_type": "code",
   "execution_count": null,
   "metadata": {},
   "outputs": [
    {
     "name": "stdout",
     "output_type": "stream",
     "text": [
      "Can not load img by url: http://worldclips.tv/images/dynamic/OldChurch.jpg\n",
      "\n",
      "Can not load img by url: http://www.shermelimages.com/files/1745920/uploaded/cSR0156-17(Church%20CR)th4.jpg\n",
      "\n",
      "Can not load img by url: http://www.1stpresbyauburnny.com/images/history/Calvary_interior_400.jpg\n",
      "\n"
     ]
    }
   ],
   "source": [
    "import requests\n",
    "import os\n",
    "\n",
    "links_dir = \"data/links\"\n",
    "\n",
    "\n",
    "def download_img(link, name_to_save):\n",
    "    with open(name_to_save, 'wb') as handle:\n",
    "        response = requests.get(link, stream=True)\n",
    "        if not response.ok:\n",
    "            pass\n",
    "        for block in response.iter_content(256):\n",
    "            if not block:\n",
    "                break\n",
    "            handle.write(block)\n",
    "\n",
    "counter = 0\n",
    "\n",
    "for txt_file in os.listdir(links_dir):\n",
    "    links = open(os.path.join(os.getcwd(), links_dir, txt_file))\n",
    "    for link in links:\n",
    "        img_name = str(counter)+\".jpg\"\n",
    "        path_to_save = os.path.join(os.getcwd(), \"data/not_ball\", img_name)\n",
    "        counter += 1\n",
    "        if counter > 1428:\n",
    "            try:\n",
    "                download_img(link, path_to_save)     \n",
    "            except:\n",
    "                print(\"Can not load img by url: {}\".format(link))\n",
    "        if counter != 0 and counter % 600 == 0:\n",
    "            break\n",
    "    links.close()"
   ]
  }
 ],
 "metadata": {
  "kernelspec": {
   "display_name": "Python 3",
   "language": "python",
   "name": "python3"
  },
  "language_info": {
   "codemirror_mode": {
    "name": "ipython",
    "version": 3
   },
   "file_extension": ".py",
   "mimetype": "text/x-python",
   "name": "python",
   "nbconvert_exporter": "python",
   "pygments_lexer": "ipython3",
   "version": "3.6.9"
  }
 },
 "nbformat": 4,
 "nbformat_minor": 2
}
