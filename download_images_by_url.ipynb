{
 "cells": [
  {
   "cell_type": "code",
   "execution_count": null,
   "metadata": {},
   "outputs": [],
   "source": [
    "import requests\n",
    "import os\n",
    "\n",
    "links_dir = \"links\"\n",
    "\n",
    "\n",
    "def download_img(link, name_to_save):\n",
    "    with open(name_to_save, 'wb') as handle:\n",
    "        response = requests.get(link, stream=True)\n",
    "        if not response.ok:\n",
    "            pass\n",
    "        for block in response.iter_content(1024):\n",
    "            if not block:\n",
    "                break\n",
    "            handle.write(block)\n",
    "\n",
    "counter = 0\n",
    "\n",
    "for txt_file in os.listdir(links_dir):\n",
    "    links = open(os.path.join(os.getcwd(), links_dir, txt_file))\n",
    "    for link in links:\n",
    "        img_name = str(counter)+\".jpg\"\n",
    "        path_to_save = os.path.join(os.getcwd(), \"data/not_ball\", img_name)\n",
    "        try:\n",
    "            download_img(link, path_to_save)\n",
    "            counter += 1\n",
    "        except:\n",
    "            print(\"Can not load img by url: {}\".format(link))\n",
    "    links.close()"
   ]
  }
 ],
 "metadata": {
  "kernelspec": {
   "display_name": "Python 3",
   "language": "python",
   "name": "python3"
  },
  "language_info": {
   "codemirror_mode": {
    "name": "ipython",
    "version": 3
   },
   "file_extension": ".py",
   "mimetype": "text/x-python",
   "name": "python",
   "nbconvert_exporter": "python",
   "pygments_lexer": "ipython3",
   "version": "3.6.9"
  }
 },
 "nbformat": 4,
 "nbformat_minor": 2
}
